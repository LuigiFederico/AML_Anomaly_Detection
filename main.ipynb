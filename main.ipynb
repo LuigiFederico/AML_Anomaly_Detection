{
 "cells": [
  {
   "attachments": {},
   "cell_type": "markdown",
   "metadata": {},
   "source": [
    "https://github.com/rvorias/ind_knn_ad"
   ]
  }
 ],
 "metadata": {
  "kernelspec": {
   "display_name": "Python 3",
   "language": "python",
   "name": "python3"
  },
  "language_info": {
   "name": "python",
   "version": "3.10.9 (tags/v3.10.9:1dd9be6, Dec  6 2022, 20:01:21) [MSC v.1934 64 bit (AMD64)]"
  },
  "orig_nbformat": 4,
  "vscode": {
   "interpreter": {
    "hash": "dfdee70b8fde6354ca2c3454fb2ed6ad5a414021dbe15bd7e75ed280b1128364"
   }
  }
 },
 "nbformat": 4,
 "nbformat_minor": 2
}
