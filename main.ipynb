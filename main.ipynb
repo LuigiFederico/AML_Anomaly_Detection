{
 "cells": [
  {
   "attachments": {},
   "cell_type": "markdown",
   "metadata": {},
   "source": [
    "# PatchCore Anomaly Detection"
   ]
  },
  {
   "attachments": {},
   "cell_type": "markdown",
   "metadata": {},
   "source": [
    "## Requirement"
   ]
  },
  {
   "attachments": {},
   "cell_type": "markdown",
   "metadata": {},
   "source": [
    "- `torch`\n",
    "- `torchvision`\n",
    "- `pillow`\n",
    "- `tqdm`\n",
    "- `wget`\n",
    "- `tarfile`\n",
    "- `ftfy`\n",
    "- `regex`\n",
    "- `cuda-python`\n",
    "- `git+(git+https://github.com/openai/CLIP.git)`"
   ]
  },
  {
   "cell_type": "code",
   "execution_count": null,
   "metadata": {},
   "outputs": [],
   "source": [
    "!pip3 install 'torch'\n",
    "!pip3 install 'torchvision'\n",
    "!pip3 install 'Pillow'\n",
    "!pip3 install 'tqdm'\n",
    "!pip3 install 'wget'\n",
    "!pip3 install 'tarfile'\n",
    "!pip3 install 'ftfy' \n",
    "!pip3 install 'regex'\n",
    "!pip3 install 'cuda-python'\n",
    "!pip3 install 'git+https://github.com/openai/CLIP.git'"
   ]
  },
  {
   "attachments": {},
   "cell_type": "markdown",
   "metadata": {},
   "source": [
    "# Clone GitHub repository"
   ]
  },
  {
   "cell_type": "code",
   "execution_count": null,
   "metadata": {},
   "outputs": [],
   "source": [
    "import os\n",
    "\n",
    "if not os.path.isdir('./AML_Anomaly_Detection'):\n",
    "    !git clone https://github.com/LuigiFederico/AML_Anomaly_Detection.git\n",
    "\n",
    "DATA_DIR = './AML_Anomaly_Detection/dataset'"
   ]
  },
  {
   "attachments": {},
   "cell_type": "markdown",
   "metadata": {},
   "source": [
    "# RUN"
   ]
  },
  {
   "cell_type": "code",
   "execution_count": null,
   "metadata": {},
   "outputs": [],
   "source": [
    "from AML_Anomaly_Detection.lib.run import run_model"
   ]
  },
  {
   "attachments": {},
   "cell_type": "markdown",
   "metadata": {},
   "source": [
    "## Vanilla PatchCore (WideResNet50)"
   ]
  },
  {
   "cell_type": "code",
   "execution_count": null,
   "metadata": {},
   "outputs": [],
   "source": [
    "run_model(backbone = 'WideResNet50')"
   ]
  },
  {
   "attachments": {},
   "cell_type": "markdown",
   "metadata": {},
   "source": [
    "## CLIP PatchCore  \n",
    "\n",
    "> Available backbones:\n",
    "> - `ResNet50`\n",
    "> - `ResNet50-4`\n",
    "> - `ResNet50-16`\n",
    "> - `ResNet50-64`\n",
    "> - `ResNet101`\n",
    ">   "
   ]
  },
  {
   "cell_type": "code",
   "execution_count": null,
   "metadata": {},
   "outputs": [],
   "source": [
    "backbone = 'ResNet50'\n",
    "run_model(backbone = 'backbone')"
   ]
  }
 ],
 "metadata": {
  "kernelspec": {
   "display_name": "Python 3",
   "language": "python",
   "name": "python3"
  },
  "language_info": {
   "codemirror_mode": {
    "name": "ipython",
    "version": 3
   },
   "file_extension": ".py",
   "mimetype": "text/x-python",
   "name": "python",
   "nbconvert_exporter": "python",
   "pygments_lexer": "ipython3",
   "version": "3.10.9 (tags/v3.10.9:1dd9be6, Dec  6 2022, 20:01:21) [MSC v.1934 64 bit (AMD64)]"
  },
  "orig_nbformat": 4,
  "vscode": {
   "interpreter": {
    "hash": "dfdee70b8fde6354ca2c3454fb2ed6ad5a414021dbe15bd7e75ed280b1128364"
   }
  }
 },
 "nbformat": 4,
 "nbformat_minor": 2
}
