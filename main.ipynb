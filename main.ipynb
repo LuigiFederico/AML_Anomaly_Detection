{
 "cells": [
  {
   "attachments": {},
   "cell_type": "markdown",
   "metadata": {},
   "source": [
    "# PatchCore Anomaly Detection"
   ]
  },
  {
   "attachments": {},
   "cell_type": "markdown",
   "metadata": {},
   "source": [
    "## Requirement"
   ]
  },
  {
   "attachments": {},
   "cell_type": "markdown",
   "metadata": {},
   "source": [
    "- `torch`\n",
    "- `torchvision`\n",
    "- `pillow`\n",
    "- `tqdm`\n",
    "- `wget`\n",
    "- `tarfile`\n",
    "- `ftfy`\n",
    "- `regex`\n",
    "- `cuda-python`\n",
    "- `git+(git+https://github.com/openai/CLIP.git)`"
   ]
  },
  {
   "cell_type": "code",
   "execution_count": null,
   "metadata": {},
   "outputs": [],
   "source": [
    "!pip3 install 'torch'\n",
    "!pip3 install 'torchvision'\n",
    "!pip3 install 'Pillow'\n",
    "!pip3 install 'tqdm'\n",
    "!pip3 install 'wget'\n",
    "!pip3 install 'tarfile'\n",
    "!pip3 install 'ftfy' \n",
    "!pip3 install 'regex'\n",
    "!pip3 install 'cuda-python'\n",
    "!pip3 install 'git+https://github.com/openai/CLIP.git'"
   ]
  },
  {
   "attachments": {},
   "cell_type": "markdown",
   "metadata": {},
   "source": [
    "# Clone GitHub repository"
   ]
  },
  {
   "cell_type": "code",
   "execution_count": 2,
   "metadata": {},
   "outputs": [
    {
     "name": "stderr",
     "output_type": "stream",
     "text": [
      "Cloning into 'AML_Anomaly_Detection'...\n"
     ]
    }
   ],
   "source": [
    "import os\n",
    "\n",
    "if not os.path.isdir('./AML_Anomaly_Detection'):\n",
    "    !git clone https://github.com/LuigiFederico/AML_Anomaly_Detection.git\n",
    "\n",
    "DATA_DIR = './AML_Anomaly_Detection/dataset'"
   ]
  },
  {
   "attachments": {},
   "cell_type": "markdown",
   "metadata": {},
   "source": [
    "# RUN"
   ]
  },
  {
   "cell_type": "code",
   "execution_count": 3,
   "metadata": {},
   "outputs": [
    {
     "ename": "ModuleNotFoundError",
     "evalue": "No module named 'wget'",
     "output_type": "error",
     "traceback": [
      "\u001b[1;31m---------------------------------------------------------------------------\u001b[0m",
      "\u001b[1;31mModuleNotFoundError\u001b[0m                       Traceback (most recent call last)",
      "\u001b[1;32mc:\\Users\\luigi\\OneDrive\\Desktop\\Didattica\\Magistrale PoliTO\\Anno II\\Advanced Machine Learning\\AML_Anomaly_Detection\\main.ipynb Cell 8\u001b[0m in \u001b[0;36m<cell line: 1>\u001b[1;34m()\u001b[0m\n\u001b[1;32m----> <a href='vscode-notebook-cell:/c%3A/Users/luigi/OneDrive/Desktop/Didattica/Magistrale%20PoliTO/Anno%20II/Advanced%20Machine%20Learning/AML_Anomaly_Detection/main.ipynb#X10sZmlsZQ%3D%3D?line=0'>1</a>\u001b[0m \u001b[39mfrom\u001b[39;00m \u001b[39mAML_Anomaly_Detection\u001b[39;00m\u001b[39m.\u001b[39;00m\u001b[39mlib\u001b[39;00m\u001b[39m.\u001b[39;00m\u001b[39mrun\u001b[39;00m \u001b[39mimport\u001b[39;00m run_model\n",
      "File \u001b[1;32mc:\\Users\\luigi\\OneDrive\\Desktop\\Didattica\\Magistrale PoliTO\\Anno II\\Advanced Machine Learning\\AML_Anomaly_Detection\\AML_Anomaly_Detection\\lib\\run.py:1\u001b[0m, in \u001b[0;36m<module>\u001b[1;34m\u001b[0m\n\u001b[1;32m----> 1\u001b[0m \u001b[39mfrom\u001b[39;00m \u001b[39m.\u001b[39;00m\u001b[39mdata\u001b[39;00m \u001b[39mimport\u001b[39;00m MVTecDataset, mvtec_classes, DEFAULT_SIZE\n\u001b[0;32m      2\u001b[0m \u001b[39mfrom\u001b[39;00m \u001b[39m.\u001b[39;00m\u001b[39mpatch_core\u001b[39;00m \u001b[39mimport\u001b[39;00m PatchCore\n\u001b[0;32m      3\u001b[0m \u001b[39mfrom\u001b[39;00m \u001b[39m.\u001b[39;00m\u001b[39mutils\u001b[39;00m \u001b[39mimport\u001b[39;00m backbones, dataset_scale_factor\n",
      "File \u001b[1;32mc:\\Users\\luigi\\OneDrive\\Desktop\\Didattica\\Magistrale PoliTO\\Anno II\\Advanced Machine Learning\\AML_Anomaly_Detection\\AML_Anomaly_Detection\\lib\\data.py:4\u001b[0m, in \u001b[0;36m<module>\u001b[1;34m\u001b[0m\n\u001b[0;32m      2\u001b[0m \u001b[39mfrom\u001b[39;00m \u001b[39mos\u001b[39;00m\u001b[39m.\u001b[39;00m\u001b[39mpath\u001b[39;00m \u001b[39mimport\u001b[39;00m isdir\n\u001b[0;32m      3\u001b[0m \u001b[39mimport\u001b[39;00m \u001b[39mtarfile\u001b[39;00m\n\u001b[1;32m----> 4\u001b[0m \u001b[39mimport\u001b[39;00m \u001b[39mwget\u001b[39;00m\n\u001b[0;32m      5\u001b[0m \u001b[39mimport\u001b[39;00m \u001b[39mssl\u001b[39;00m\n\u001b[0;32m      6\u001b[0m \u001b[39mfrom\u001b[39;00m \u001b[39mpathlib\u001b[39;00m \u001b[39mimport\u001b[39;00m Path\n",
      "\u001b[1;31mModuleNotFoundError\u001b[0m: No module named 'wget'"
     ]
    }
   ],
   "source": [
    "from AML_Anomaly_Detection.lib.run import run_model\n",
    "from AML_Anomaly_Detection.lib.utils import display_backbones"
   ]
  },
  {
   "cell_type": "code",
   "execution_count": null,
   "metadata": {},
   "outputs": [],
   "source": [
    "# Availeble backbones\n",
    "display_backbones()"
   ]
  },
  {
   "attachments": {},
   "cell_type": "markdown",
   "metadata": {},
   "source": [
    "## Vanilla PatchCore"
   ]
  },
  {
   "cell_type": "code",
   "execution_count": null,
   "metadata": {},
   "outputs": [],
   "source": [
    "run_model(backbone = 'WideResNet50')"
   ]
  },
  {
   "attachments": {},
   "cell_type": "markdown",
   "metadata": {},
   "source": [
    "## CLIP PatchCore  \n",
    "\n",
    "> Available backbones:\n",
    "> - `ResNet50`\n",
    "> - `ResNet50-4`    -> scaling factor: 2\n",
    "> - `ResNet50-16`   -> scaling factor: 4\n",
    "> - `ResNet101`\n",
    ">   "
   ]
  },
  {
   "cell_type": "code",
   "execution_count": null,
   "metadata": {},
   "outputs": [],
   "source": [
    "backbone = 'ResNet50'\n",
    "run_model(backbone = backbone)"
   ]
  }
 ],
 "metadata": {
  "kernelspec": {
   "display_name": "Python 3",
   "language": "python",
   "name": "python3"
  },
  "language_info": {
   "codemirror_mode": {
    "name": "ipython",
    "version": 3
   },
   "file_extension": ".py",
   "mimetype": "text/x-python",
   "name": "python",
   "nbconvert_exporter": "python",
   "pygments_lexer": "ipython3",
   "version": "3.10.9"
  },
  "orig_nbformat": 4,
  "vscode": {
   "interpreter": {
    "hash": "dfdee70b8fde6354ca2c3454fb2ed6ad5a414021dbe15bd7e75ed280b1128364"
   }
  }
 },
 "nbformat": 4,
 "nbformat_minor": 2
}
